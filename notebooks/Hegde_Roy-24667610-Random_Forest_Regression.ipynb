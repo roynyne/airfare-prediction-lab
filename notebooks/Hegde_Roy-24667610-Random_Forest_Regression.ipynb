{
 "cells": [
  {
   "cell_type": "code",
   "execution_count": 1,
   "id": "3773f4d9",
   "metadata": {},
   "outputs": [],
   "source": [
    "import pandas as pd\n",
    "import numpy as np\n",
    "from sklearn.preprocessing import LabelEncoder\n",
    "from sklearn.model_selection import train_test_split\n",
    "from sklearn.metrics import mean_absolute_error, r2_score, mean_squared_error\n",
    "from sklearn.ensemble import RandomForestRegressor\n",
    "import joblib"
   ]
  },
  {
   "cell_type": "code",
   "execution_count": 2,
   "id": "cf537450",
   "metadata": {},
   "outputs": [],
   "source": [
    "# Load and preprocess data\n",
    "def load_and_preprocess_data(file_path):\n",
    "    \"\"\"\n",
    "    Load the dataset, rename relevant columns, and select only the necessary columns.\n",
    "    \"\"\"\n",
    "    # Load dataset\n",
    "    data = pd.read_csv(file_path)\n",
    "    \n",
    "    # Rename columns for clarity\n",
    "    data = data.rename(columns={\n",
    "        'startingAirport': 'origin_airport', \n",
    "        'destinationAirport': 'destination_airport',\n",
    "        'flightDate': 'departure_date', \n",
    "        'totalFare': 'fare'\n",
    "    })\n",
    "    \n",
    "    # Extract departure time in HH:MM format\n",
    "    data['departure_time_HHMM'] = pd.to_datetime(\n",
    "        data['segmentsDepartureTimeRaw'].apply(lambda x: x.split('||')[0]),\n",
    "        utc=True,\n",
    "        errors='coerce'\n",
    "    ).dt.strftime('%H:%M')\n",
    "    \n",
    "    # Extract cabin type\n",
    "    data['cabin_type'] = data['segmentsCabinCode'].apply(lambda x: x.split('||')[0])\n",
    "    \n",
    "    # Select and return only the relevant columns\n",
    "    data = data[['origin_airport', 'destination_airport', 'departure_date', 'departure_time_HHMM', 'cabin_type', 'fare']]\n",
    "    return data"
   ]
  },
  {
   "cell_type": "code",
   "execution_count": 3,
   "id": "321daafe",
   "metadata": {},
   "outputs": [],
   "source": [
    "# Encode categorical columns\n",
    "def encode_data(data):\n",
    "    \"\"\"\n",
    "    Encode categorical columns in the dataset using Label Encoding.\n",
    "    \"\"\"\n",
    "    # Initialize LabelEncoders\n",
    "    label_encoders = {\n",
    "        'origin_airport': LabelEncoder(),\n",
    "        'destination_airport': LabelEncoder(),\n",
    "        'departure_date': LabelEncoder(),\n",
    "        'departure_time_HHMM': LabelEncoder(),\n",
    "        'cabin_type': LabelEncoder()\n",
    "    }\n",
    "    \n",
    "    # Apply encoding and save encoders for each column\n",
    "    for column, encoder in label_encoders.items():\n",
    "        data[column] = encoder.fit_transform(data[column])\n",
    "    \n",
    "    return data, label_encoders"
   ]
  },
  {
   "cell_type": "code",
   "execution_count": 4,
   "id": "24874e8e",
   "metadata": {},
   "outputs": [],
   "source": [
    "# Split the data\n",
    "def split_data(data, test_size=0.2, sample_fraction=0.1, random_state=42):\n",
    "    \"\"\"\n",
    "    Sample a fraction of the data, separate features and target, and split into train/test sets.\n",
    "    \"\"\"\n",
    "    # Take a random sample for quicker training\n",
    "    sampled_data = data.sample(frac=sample_fraction, random_state=random_state)\n",
    "    \n",
    "    # Define features and target\n",
    "    X = sampled_data[['origin_airport', 'destination_airport', 'departure_date', 'departure_time_HHMM', 'cabin_type']]\n",
    "    y = sampled_data['fare']\n",
    "    \n",
    "    # Split data\n",
    "    X_train, X_test, y_train, y_test = train_test_split(X, y, test_size=test_size, random_state=random_state)\n",
    "    \n",
    "    return X_train, X_test, y_train, y_test"
   ]
  },
  {
   "cell_type": "code",
   "execution_count": 5,
   "id": "47bc9b17",
   "metadata": {},
   "outputs": [],
   "source": [
    "# Train model\n",
    "def train_model(X_train, y_train):\n",
    "    \"\"\"\n",
    "    Train a Random Forest model with specified parameters.\n",
    "    \"\"\"\n",
    "    # Initialize Random Forest with parameters for reduced model size\n",
    "    model = RandomForestRegressor(n_estimators=50, max_depth=10, min_samples_leaf=2, random_state=42)\n",
    "    \n",
    "    # Train the model\n",
    "    model.fit(X_train, y_train)\n",
    "    \n",
    "    return model"
   ]
  },
  {
   "cell_type": "code",
   "execution_count": 6,
   "id": "e321f74c",
   "metadata": {},
   "outputs": [],
   "source": [
    "# Evaluate model\n",
    "def evaluate_model(model, X_test, y_test):\n",
    "    \"\"\"\n",
    "    Predict and evaluate the model on test data.\n",
    "    \"\"\"\n",
    "    # Make predictions\n",
    "    y_pred = model.predict(X_test)\n",
    "    \n",
    "    # Calculate evaluation metrics\n",
    "    mae = mean_absolute_error(y_test, y_pred)\n",
    "    r2 = r2_score(y_test, y_pred)\n",
    "    rmse = np.sqrt(mean_squared_error(y_test, y_pred))\n",
    "    \n",
    "    print(\"Mean Absolute Error:\", mae)\n",
    "    print(\"R² Score:\", r2)\n",
    "    print(\"RMSE:\", rmse)\n",
    "    \n",
    "    return mae, r2, rmse"
   ]
  },
  {
   "cell_type": "code",
   "execution_count": 7,
   "id": "4c46c504",
   "metadata": {},
   "outputs": [],
   "source": [
    "# Save model and encoders\n",
    "def save_model_and_encoders(model, label_encoders, model_path, encoders_path_prefix):\n",
    "    \"\"\"\n",
    "    Save the trained model and label encoders.\n",
    "    \"\"\"\n",
    "    #Save model with compression\n",
    "    joblib.dump(model, model_path, compress=3)\n",
    "    print(f\"Model saved at {model_path}\")\n",
    "    \n",
    "    # Save each label encoder\n",
    "    for column, encoder in label_encoders.items():\n",
    "        encoder_path = f\"{encoders_path_prefix}_{column}_label_encoder.pkl\"\n",
    "        joblib.dump(encoder, encoder_path)\n",
    "        print(f\"{column} encoder saved at {encoder_path}\")"
   ]
  },
  {
   "cell_type": "code",
   "execution_count": 8,
   "id": "c30511ee",
   "metadata": {},
   "outputs": [],
   "source": [
    "# Define main pipeline function\n",
    "def main_pipeline(file_path, model_path, encoders_path_prefix):\n",
    "    \"\"\"\n",
    "    Main pipeline for loading data, preprocessing, training, and saving the model.\n",
    "    \"\"\"\n",
    "    # Load and preprocess data\n",
    "    data = load_and_preprocess_data(file_path)\n",
    "    \n",
    "    # Encode categorical data\n",
    "    data, label_encoders = encode_data(data)\n",
    "    \n",
    "    # Split data\n",
    "    X_train, X_test, y_train, y_test = split_data(data)\n",
    "    \n",
    "    # Train model\n",
    "    model = train_model(X_train, y_train)\n",
    "    \n",
    "    # Evaluate model\n",
    "    evaluate_model(model, X_test, y_test)\n",
    "    \n",
    "    # Save model and encoders\n",
    "    save_model_and_encoders(model, label_encoders, model_path, encoders_path_prefix)"
   ]
  },
  {
   "cell_type": "code",
   "execution_count": 9,
   "id": "8866b794",
   "metadata": {},
   "outputs": [
    {
     "name": "stdout",
     "output_type": "stream",
     "text": [
      "Mean Absolute Error: 108.0273729140025\n",
      "R² Score: 0.47180901173968803\n",
      "RMSE: 149.96541783242972\n",
      "Model saved at /Users/bananavodka/Projects/at3_mla/at3-model-experimentation/models/rf_model.pkl\n",
      "origin_airport encoder saved at /Users/bananavodka/Projects/at3_mla/at3-model-experimentation/models_origin_airport_label_encoder.pkl\n",
      "destination_airport encoder saved at /Users/bananavodka/Projects/at3_mla/at3-model-experimentation/models_destination_airport_label_encoder.pkl\n",
      "departure_date encoder saved at /Users/bananavodka/Projects/at3_mla/at3-model-experimentation/models_departure_date_label_encoder.pkl\n",
      "departure_time_HHMM encoder saved at /Users/bananavodka/Projects/at3_mla/at3-model-experimentation/models_departure_time_HHMM_label_encoder.pkl\n",
      "cabin_type encoder saved at /Users/bananavodka/Projects/at3_mla/at3-model-experimentation/models_cabin_type_label_encoder.pkl\n"
     ]
    }
   ],
   "source": [
    "# Execute the pipeline\n",
    "if __name__ == \"__main__\":\n",
    "    file_path = '/Users/bananavodka/Projects/at3_mla/at3-model-experimentation/data/combined_itineraries.csv'\n",
    "    model_path = '/Users/bananavodka/Projects/at3_mla/at3-model-experimentation/models/rf_model.pkl'\n",
    "    encoders_path_prefix = '/Users/bananavodka/Projects/at3_mla/at3-model-experimentation/models'\n",
    "\n",
    "    main_pipeline(file_path, model_path, encoders_path_prefix)"
   ]
  },
  {
   "cell_type": "code",
   "execution_count": null,
   "id": "0b904cbd",
   "metadata": {},
   "outputs": [],
   "source": []
  }
 ],
 "metadata": {
  "kernelspec": {
   "display_name": "at3-model-experimentation",
   "language": "python",
   "name": "at3-model-experimentation"
  },
  "language_info": {
   "codemirror_mode": {
    "name": "ipython",
    "version": 3
   },
   "file_extension": ".py",
   "mimetype": "text/x-python",
   "name": "python",
   "nbconvert_exporter": "python",
   "pygments_lexer": "ipython3",
   "version": "3.11.4"
  }
 },
 "nbformat": 4,
 "nbformat_minor": 5
}
