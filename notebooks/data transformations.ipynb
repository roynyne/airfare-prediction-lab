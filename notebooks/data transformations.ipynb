{
 "cells": [
  {
   "cell_type": "code",
   "execution_count": 20,
   "id": "2b94b6ad-d9f4-4e86-ae3d-dec7f699a775",
   "metadata": {},
   "outputs": [],
   "source": [
    "import pandas as pd\n",
    "import numpy as np \n",
    "import os\n",
    "import zipfile\n",
    "\n",
    "\n",
    "# Set the path to the root directory containing the zip files\n",
    "root_dir = '/Users/thusondube/Downloads/itineraries_csv'\n",
    "\n",
    "# Initialize an empty list to hold DataFrames\n",
    "df_list = []\n",
    "\n",
    "# Walk through the root directory\n",
    "for folder_name, subfolders, filenames in os.walk(root_dir):\n",
    "    for filename in filenames:\n",
    "        if filename.endswith('.zip'):\n",
    "            # Get the full path to the zip file\n",
    "            zip_file_path = os.path.join(folder_name, filename)\n",
    "            \n",
    "            # Open the zip file\n",
    "            with zipfile.ZipFile(zip_file_path, 'r') as zip_ref:\n",
    "                # Loop through files inside the zip and check if it's a CSV\n",
    "                for file in zip_ref.namelist():\n",
    "                    if file.endswith('.csv'):\n",
    "                        # Read the CSV into a DataFrame\n",
    "                        with zip_ref.open(file) as f:\n",
    "                            df = pd.read_csv(f)\n",
    "                            # Append the DataFrame to the list\n",
    "                            df_list.append(df)\n",
    "\n",
    "# Concatenate all DataFrames into one\n",
    "data = pd.concat(df_list, ignore_index=True)"
   ]
  },
  {
   "cell_type": "code",
   "execution_count": 29,
   "id": "f9278893-153f-40f7-a3ed-c23bd1e6fbaf",
   "metadata": {
    "scrolled": true
   },
   "outputs": [],
   "source": [
    "  \n",
    "# Extract cabin type\n",
    "data['cabin_type'] = data['segmentsCabinCode'].apply(lambda x: x.split('||')[0])"
   ]
  },
  {
   "cell_type": "code",
   "execution_count": 26,
   "id": "060f11c3-5845-465a-baa6-d38cbe20c2c2",
   "metadata": {},
   "outputs": [],
   "source": [
    "origin = data['startingAirport'].unique()"
   ]
  },
  {
   "cell_type": "code",
   "execution_count": 27,
   "id": "7e14c37e-1a17-4441-aa59-9becadb57475",
   "metadata": {},
   "outputs": [],
   "source": [
    "destination = data['destinationAirport'].unique()"
   ]
  },
  {
   "cell_type": "code",
   "execution_count": 32,
   "id": "2563654b-2cb1-4c0a-bb2a-0982acce81b0",
   "metadata": {},
   "outputs": [
    {
     "name": "stdout",
     "output_type": "stream",
     "text": [
      "['coach' 'first' 'business' 'premium coach']\n"
     ]
    }
   ],
   "source": [
    "cabin  = data['cabin_type'].unique()\n",
    "print(cabin)"
   ]
  },
  {
   "cell_type": "code",
   "execution_count": 33,
   "id": "bf07aa56-377a-4573-90e9-995780cb3485",
   "metadata": {},
   "outputs": [
    {
     "data": {
      "text/plain": [
       "['/Users/thusondube/Documents/UTS2024/Projects/at3-model-experimentation/data/processed/cabin.joblib']"
      ]
     },
     "execution_count": 33,
     "metadata": {},
     "output_type": "execute_result"
    }
   ],
   "source": [
    "from joblib import dump\n",
    "\n",
    "dump(origin,  '/Users/thusondube/Documents/UTS2024/Projects/at3-model-experimentation/data/processed/origin.joblib')\n",
    "dump(destination, '/Users/thusondube/Documents/UTS2024/Projects/at3-model-experimentation/data/processed/destination.joblib')\n",
    "dump(cabin, '/Users/thusondube/Documents/UTS2024/Projects/at3-model-experimentation/data/processed/cabin.joblib')"
   ]
  },
  {
   "cell_type": "code",
   "execution_count": 34,
   "id": "894410ea-2a0c-4814-a2e8-c96a92a5e6bb",
   "metadata": {},
   "outputs": [
    {
     "name": "stdout",
     "output_type": "stream",
     "text": [
      "Minimum Date: 2022-04-17\n",
      "Maximum Date: 2022-07-17\n"
     ]
    }
   ],
   "source": [
    "min_date = data['flightDate'].min()\n",
    "max_date = data['flightDate'].max()\n",
    "\n",
    "print(\"Minimum Date:\", min_date)\n",
    "print(\"Maximum Date:\", max_date)"
   ]
  },
  {
   "cell_type": "code",
   "execution_count": 37,
   "id": "74845af0-df7f-4f84-96a3-ae859f9efe37",
   "metadata": {},
   "outputs": [
    {
     "data": {
      "text/plain": [
       "['/Users/thusondube/Documents/UTS2024/Projects/thuso_dube_A3_24542250_ada_backend/models/cabin_encoder.joblib']"
      ]
     },
     "execution_count": 37,
     "metadata": {},
     "output_type": "execute_result"
    }
   ],
   "source": [
    "import joblib\n",
    "from sklearn.preprocessing import LabelEncoder\n",
    "\n",
    "\n",
    "origin_airports = origin\n",
    "destination_airports = destination\n",
    "cabin_types = cabin\n",
    "\n",
    "# Initialize LabelEncoders\n",
    "origin_encoder = LabelEncoder().fit(origin_airports)\n",
    "destination_encoder = LabelEncoder().fit(destination_airports)\n",
    "cabin_encoder = LabelEncoder().fit(cabin_types)\n",
    "\n",
    "# Save the encoders\n",
    "joblib.dump(origin_encoder, '/Users/thusondube/Documents/UTS2024/Projects/thuso_dube_A3_24542250_ada_backend/models/origin_encoder.joblib')\n",
    "joblib.dump(destination_encoder, '/Users/thusondube/Documents/UTS2024/Projects/thuso_dube_A3_24542250_ada_backend/models/destination_encoder.joblib')\n",
    "joblib.dump(cabin_encoder, '/Users/thusondube/Documents/UTS2024/Projects/thuso_dube_A3_24542250_ada_backend/models/cabin_encoder.joblib')"
   ]
  }
 ],
 "metadata": {
  "kernelspec": {
   "display_name": "Python 3 (ipykernel)",
   "language": "python",
   "name": "python3"
  },
  "language_info": {
   "codemirror_mode": {
    "name": "ipython",
    "version": 3
   },
   "file_extension": ".py",
   "mimetype": "text/x-python",
   "name": "python",
   "nbconvert_exporter": "python",
   "pygments_lexer": "ipython3",
   "version": "3.11.4"
  }
 },
 "nbformat": 4,
 "nbformat_minor": 5
}
