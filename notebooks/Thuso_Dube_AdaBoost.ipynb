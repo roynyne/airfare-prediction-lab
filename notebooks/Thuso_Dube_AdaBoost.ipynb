{
 "cells": [
  {
   "cell_type": "code",
   "execution_count": 68,
   "id": "4e1c1a67-ac84-47e5-967e-3a3c092e4cc5",
   "metadata": {},
   "outputs": [],
   "source": [
    "\n",
    "import pandas as pd\n",
    "import numpy as np\n",
    "from sklearn.preprocessing import LabelEncoder\n",
    "from sklearn.model_selection import train_test_split\n",
    "from sklearn.metrics import mean_absolute_error, r2_score, mean_squared_error\n",
    "from sklearn.ensemble import RandomForestRegressor\n",
    "import joblib\n"
   ]
  },
  {
   "cell_type": "code",
   "execution_count": 69,
   "id": "0c8e7c2c-5340-4f27-bfd2-a9dbec9cd7fb",
   "metadata": {},
   "outputs": [],
   "source": [
    "def load_and_preprocess_data(file_path):\n",
    "    \"\"\"\n",
    "    Load the dataset, rename relevant columns, and select only the necessary columns.\n",
    "    \"\"\"\n",
    "    # Load dataset\n",
    "    data = pd.read_csv(file_path)\n",
    "    \n",
    "    # Rename columns for clarity\n",
    "    data = data.rename(columns={\n",
    "        'startingAirport': 'origin_airport', \n",
    "        'destinationAirport': 'destination_airport',\n",
    "        'totalFare': 'fare'\n",
    "    })\n",
    "    \n",
    "    \n",
    "    # Extract cabin type\n",
    "    data['cabin_type'] = data['segmentsCabinCode'].apply(lambda x: x.split('||')[0])\n",
    "    \n",
    "    # Select and return only the relevant columns\n",
    "    data = data[['origin_airport', 'destination_airport','segmentsDepartureTimeRaw', 'cabin_type', 'fare']]\n",
    "    return data\n"
   ]
  },
  {
   "cell_type": "code",
   "execution_count": 70,
   "id": "452eb9f3-a7a7-498d-b8ab-6037c83de7b8",
   "metadata": {},
   "outputs": [],
   "source": [
    "# Function to extract first text before first delimiter, convert to datetime, round to nearest 30 mins, and convert to epoch seconds\n",
    "def convert_to_epoch_seconds(time_str):\n",
    "    try:\n",
    "        # Extract the first time segment and convert to datetime\n",
    "        time = pd.to_datetime(time_str.split('||')[0], utc=True, errors='coerce')\n",
    "        # Round to the nearest 30 minutes\n",
    "        time = (time.floor('30T') + pd.Timedelta(minutes=15)).floor('30T')\n",
    "        # Convert to epoch seconds\n",
    "        return int(time.timestamp())\n",
    "    except Exception as e:\n",
    "        # Handle any errors and return None or a default value\n",
    "        return None\n",
    "\n",
    "# Encode categorical columns and apply convert_to_epoch_seconds function\n",
    "def encode_data(data):\n",
    "    \"\"\"\n",
    "    Encode categorical columns in the dataset using Label Encoding.\n",
    "    Apply convert_to_epoch_seconds function to 'segmentsDepartureTimeRaw' column.\n",
    "    \"\"\"\n",
    "    # Initialize LabelEncoders\n",
    "    label_encoders = {\n",
    "        'origin_airport': LabelEncoder(),\n",
    "        'destination_airport': LabelEncoder(),\n",
    "        'cabin_type': LabelEncoder()\n",
    "    }\n",
    "    \n",
    "    # Apply encoding and save encoders for each column\n",
    "    for column, encoder in label_encoders.items():\n",
    "        data[column] = encoder.fit_transform(data[column])\n",
    "    \n",
    "    # Apply convert_to_epoch_seconds function to 'segmentsDepartureTimeRaw' column\n",
    "    data['departure_time_seconds'] = data['segmentsDepartureTimeRaw'].apply(convert_to_epoch_seconds)\n",
    "    \n",
    "    return data, label_encoders"
   ]
  },
  {
   "cell_type": "code",
   "execution_count": 72,
   "id": "016f8a09-cf4b-4d00-b08f-1f8019f1402b",
   "metadata": {},
   "outputs": [],
   "source": [
    "# Train model\n",
    "def train_model(X_train, y_train):\n",
    "    \"\"\"\n",
    "    Train a  Adaboost model with specified parameters.\n",
    "    \"\"\"\n",
    "    # Initialize Random Forest with parameters for reduced model size\n",
    "    model  = AdaBoostRegressor(random_state=0, n_estimators=100)\n",
    "    \n",
    "    # Train the model\n",
    "    model.fit(X_train, y_train)\n",
    "    \n",
    "    return model"
   ]
  },
  {
   "cell_type": "code",
   "execution_count": 76,
   "id": "618515ec-e40f-4adc-b592-1d6fa8c41ac1",
   "metadata": {},
   "outputs": [],
   "source": [
    "# Split the data\n",
    "def split_data(data, test_size=0.2, sample_fraction=0.1, random_state=42):\n",
    "    \"\"\"\n",
    "    Sample a fraction of the data, separate features and target, and split into train/test sets.\n",
    "    \"\"\"\n",
    "    # Take a random sample for quicker training\n",
    "    sampled_data = data.sample(frac=sample_fraction, random_state=random_state)\n",
    "    \n",
    "    # Define features and target\n",
    "    X = sampled_data[['origin_airport', 'destination_airport','departure_time_seconds', 'cabin_type']]\n",
    "    y = sampled_data['fare']\n",
    "    \n",
    "    # Split data\n",
    "    X_train, X_test, y_train, y_test = train_test_split(X, y, test_size=test_size, random_state=random_state)\n",
    "    \n",
    "    return X_train, X_test, y_train, y_test"
   ]
  },
  {
   "cell_type": "code",
   "execution_count": 73,
   "id": "e742fb2c-2f5e-48ee-afa9-81f9fd3c55b4",
   "metadata": {},
   "outputs": [],
   "source": [
    "# Evaluate model\n",
    "def evaluate_model(model, X_test, y_test):\n",
    "    \"\"\"\n",
    "    Predict and evaluate the model on test data.\n",
    "    \"\"\"\n",
    "    # Make predictions\n",
    "    y_pred = model.predict(X_test)\n",
    "    \n",
    "    # Calculate evaluation metrics\n",
    "    mae = mean_absolute_error(y_test, y_pred)\n",
    "    r2 = r2_score(y_test, y_pred)\n",
    "    rmse = np.sqrt(mean_squared_error(y_test, y_pred))\n",
    "    \n",
    "    print(\"Mean Absolute Error:\", mae)\n",
    "    print(\"R² Score:\", r2)\n",
    "    print(\"RMSE:\", rmse)\n",
    "    \n",
    "    return mae, r2, rmse"
   ]
  },
  {
   "cell_type": "code",
   "execution_count": 74,
   "id": "4226b5d3-936a-4f50-8035-d75db5cab11b",
   "metadata": {},
   "outputs": [],
   "source": [
    "# Define main pipeline function\n",
    "def main_pipeline(file_path, model_path, encoders_path_prefix):\n",
    "    \"\"\"\n",
    "    Main pipeline for loading data, preprocessing, training, and saving the model.\n",
    "    \"\"\"\n",
    "    # Load and preprocess data\n",
    "    data = load_and_preprocess_data(file_path)\n",
    "    \n",
    "    # Encode categorical data\n",
    "    data, label_encoders = encode_data(data)\n",
    "    \n",
    "    # Split data\n",
    "    X_train, X_test, y_train, y_test = split_data(data)\n",
    "    \n",
    "    # Train model\n",
    "    model = train_model(X_train, y_train)\n",
    "    \n",
    "    # Evaluate model\n",
    "    evaluate_model(model, X_test, y_test)\n",
    "    \n",
    "    # Save model and encoders\n",
    "    #save_model_and_encoders(model, label_encoders, model_path, encoders_path_prefix)"
   ]
  },
  {
   "cell_type": "code",
   "execution_count": 77,
   "id": "ba0d3e3a-c375-4ce8-aa60-a278cd71a980",
   "metadata": {},
   "outputs": [
    {
     "name": "stderr",
     "output_type": "stream",
     "text": [
      "/var/folders/p1/f_nj01q561bd83ht98rlq03r0000gn/T/ipykernel_26584/2668009095.py:7: FutureWarning: 'T' is deprecated and will be removed in a future version, please use 'min' instead.\n",
      "  time = (time.floor('30T') + pd.Timedelta(minutes=15)).floor('30T')\n"
     ]
    },
    {
     "name": "stdout",
     "output_type": "stream",
     "text": [
      "Mean Absolute Error: 199.2348214841979\n",
      "R² Score: -0.1455158358513191\n",
      "RMSE: 259.6437666892042\n"
     ]
    }
   ],
   "source": [
    "# Execute the pipeline\n",
    "if __name__ == \"__main__\":\n",
    "    file_path = '/Users/thusondube/Downloads/sample_flights.csv'\n",
    "    model_path = '/Users/thusondube/Projects/at3_mla/at3-model-experimentation/models/rf_model.pkl'\n",
    "    encoders_path_prefix = '/Users/thusondube/Projects/at3_mla/at3-model-experimentation/model'\n",
    "\n",
    "    main_pipeline(file_path, model_path, encoders_path_prefix)\n"
   ]
  },
  {
   "cell_type": "code",
   "execution_count": 80,
   "id": "b9f87d72-44d8-49e6-9707-717befaafd1a",
   "metadata": {},
   "outputs": [],
   "source": [
    "X_train, X_test, y_train, y_test = split_data(data)"
   ]
  },
  {
   "cell_type": "code",
   "execution_count": null,
   "id": "bc579f8f-513a-4b3a-9674-7b0e5b08d89c",
   "metadata": {},
   "outputs": [],
   "source": []
  },
  {
   "cell_type": "code",
   "execution_count": null,
   "id": "3c8f9ae4-b0dc-4af7-912f-19c7b7ad90f1",
   "metadata": {},
   "outputs": [],
   "source": []
  },
  {
   "cell_type": "code",
   "execution_count": 81,
   "id": "e5a695ba-b703-42dc-8bc2-2068fcc66373",
   "metadata": {},
   "outputs": [
    {
     "name": "stdout",
     "output_type": "stream",
     "text": [
      "RMSE Training: 231.1976592233844\n",
      "MAE Training: 171.9465263516327\n",
      "RMSE Validation: 228.63143228968687\n",
      "MAE Validation: 170.04998039702687\n"
     ]
    }
   ],
   "source": [
    "from code_pkg.models.performance import fit_assess_regressor\n",
    "\n",
    "model1 = fit_assess_regressor(AdaBoostRegressor(random_state=0, n_estimators=100, learning_rate=0.05), X_train, y_train, X_test, y_test)\n",
    "\n"
   ]
  },
  {
   "cell_type": "code",
   "execution_count": 84,
   "id": "0db6056b-5127-41b3-8453-93393788b78a",
   "metadata": {},
   "outputs": [
    {
     "data": {
      "text/plain": [
       "['/Users/thusondube/Documents/UTS2024/Projects/thuso_dube_A3_24542250_ada_backend/models/ada_reg1.joblib']"
      ]
     },
     "execution_count": 84,
     "metadata": {},
     "output_type": "execute_result"
    }
   ],
   "source": [
    "from joblib import dump\n",
    "\n",
    "dump(model1, '/Users/thusondube/Documents/UTS2024/Projects/thuso_dube_A3_24542250_ada_backend/models/ada_reg1.joblib')\n",
    "\n"
   ]
  }
 ],
 "metadata": {
  "kernelspec": {
   "display_name": "Python 3 (ipykernel)",
   "language": "python",
   "name": "python3"
  },
  "language_info": {
   "codemirror_mode": {
    "name": "ipython",
    "version": 3
   },
   "file_extension": ".py",
   "mimetype": "text/x-python",
   "name": "python",
   "nbconvert_exporter": "python",
   "pygments_lexer": "ipython3",
   "version": "3.11.4"
  }
 },
 "nbformat": 4,
 "nbformat_minor": 5
}
