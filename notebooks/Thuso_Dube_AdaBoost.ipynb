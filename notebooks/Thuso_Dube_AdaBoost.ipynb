{
 "cells": [
  {
   "cell_type": "code",
   "execution_count": 1,
   "id": "4e1c1a67-ac84-47e5-967e-3a3c092e4cc5",
   "metadata": {},
   "outputs": [],
   "source": [
    "import pandas as pd\n",
    "import numpy as np\n",
    "from sklearn.preprocessing import LabelEncoder\n",
    "from sklearn.model_selection import train_test_split\n",
    "from sklearn.metrics import mean_absolute_error, r2_score, mean_squared_error\n",
    "from sklearn.ensemble import RandomForestRegressor\n",
    "import joblib\n"
   ]
  },
  {
   "cell_type": "code",
   "execution_count": 16,
   "id": "0c8e7c2c-5340-4f27-bfd2-a9dbec9cd7fb",
   "metadata": {},
   "outputs": [],
   "source": [
    "#Load Processed Datasets\n",
    "\n",
    "data = pd.read_csv('/Users/thusondube/Downloads/sample_flights.csv')"
   ]
  },
  {
   "cell_type": "code",
   "execution_count": 19,
   "id": "4843fc2c-2fa6-4d76-addf-69503f5f2de1",
   "metadata": {},
   "outputs": [
    {
     "name": "stderr",
     "output_type": "stream",
     "text": [
      "/var/folders/p1/f_nj01q561bd83ht98rlq03r0000gn/T/ipykernel_24877/3317645746.py:13: FutureWarning: 'T' is deprecated and will be removed in a future version, please use 'min' instead.\n",
      "  time = (time.floor('30T') + pd.Timedelta(minutes=15)).floor('30T')\n"
     ]
    }
   ],
   "source": [
    "\n",
    "    \n",
    "# Rename columns for clarity\n",
    "data = data.rename(columns={\n",
    "        'startingAirport': 'origin_airport', \n",
    "        'destinationAirport': 'destination_airport',\n",
    "        'totalFare': 'fare'\n",
    "    })\n",
    "    \n",
    "def convert_to_epoch_seconds(time_str):\n",
    "    try:\n",
    "        # Extract the first time segment and convert to datetime\n",
    "        time = pd.to_datetime(time_str.split('||')[0], utc=True, errors='coerce')\n",
    "        # Round to the nearest 30 minutes\n",
    "        time = (time.floor('30T') + pd.Timedelta(minutes=15)).floor('30T')\n",
    "        # Convert to epoch seconds\n",
    "        return int(time.timestamp())\n",
    "    except Exception as e:\n",
    "        # Handle any errors and return None or a default value\n",
    "        return None\n",
    "\n",
    "# Apply the function to the DataFrame column\n",
    "data['departure_time_seconds'] = data['segmentsDepartureTimeRaw'].apply(convert_to_epoch_seconds)\n",
    "    \n",
    "    # Extract cabin type\n",
    "data['cabin_type'] = data['segmentsCabinCode'].apply(lambda x: x.split('||')[0])\n",
    "    \n",
    "    # Select and return only the relevant columns\n",
    "data = data[['origin_airport', 'destination_airport', 'departure_time_seconds', 'cabin_type', 'fare']]\n",
    "   "
   ]
  },
  {
   "cell_type": "code",
   "execution_count": 26,
   "id": "452eb9f3-a7a7-498d-b8ab-6037c83de7b8",
   "metadata": {},
   "outputs": [],
   "source": [
    "# Encode categorical columns\n",
    "def encode_data(data):\n",
    "    \"\"\"\n",
    "    Encode categorical columns in the dataset using Label Encoding.\n",
    "    \"\"\"\n",
    "    # Initialize LabelEncoders\n",
    "    label_encoders = {\n",
    "        'origin_airport': LabelEncoder(),\n",
    "        'destination_airport': LabelEncoder(),\n",
    "        'cabin_type': LabelEncoder()\n",
    "    }\n",
    "    \n",
    "    # Apply encoding and save encoders for each column\n",
    "    for column, encoder in label_encoders.items():\n",
    "        data[column] = encoder.fit_transform(data[column])\n",
    "    \n",
    "    return data, label_encoders"
   ]
  },
  {
   "cell_type": "code",
   "execution_count": 27,
   "id": "4bff3957-c9aa-427a-b1ff-b9147fad1121",
   "metadata": {},
   "outputs": [],
   "source": [
    "# Split the data\n",
    "def split_data(data, test_size=0.2, sample_fraction=0.1, random_state=42):\n",
    "    \"\"\"\n",
    "    Sample a fraction of the data, separate features and target, and split into train/test sets.\n",
    "    \"\"\"\n",
    "    # Take a random sample for quicker training\n",
    "    sampled_data = data.sample(frac=sample_fraction, random_state=random_state)\n",
    "    \n",
    "    # Define features and target\n",
    "    X = sampled_data[['origin_airport', 'destination_airport', 'departure_time_seconds', 'cabin_type']]\n",
    "    y = sampled_data['fare']\n",
    "    \n",
    "    # Split data\n",
    "    X_train, X_test, y_train, y_test = train_test_split(X, y, test_size=test_size, random_state=random_state)\n",
    "    \n",
    "    return X_train, X_test, y_train, y_test"
   ]
  },
  {
   "cell_type": "code",
   "execution_count": 32,
   "id": "016f8a09-cf4b-4d00-b08f-1f8019f1402b",
   "metadata": {},
   "outputs": [],
   "source": [
    "# Train model\n",
    "def train_model(X_train, y_train):\n",
    "    \"\"\"\n",
    "    Train a  Adaboost model with specified parameters.\n",
    "    \"\"\"\n",
    "    # Initialize Random Forest with parameters for reduced model size\n",
    "    model  = AdaBoostRegressor(random_state=0, n_estimators=100)\n",
    "    \n",
    "    # Train the model\n",
    "    model.fit(X_train, y_train)\n",
    "    \n",
    "    return model"
   ]
  },
  {
   "cell_type": "code",
   "execution_count": 33,
   "id": "e742fb2c-2f5e-48ee-afa9-81f9fd3c55b4",
   "metadata": {},
   "outputs": [],
   "source": [
    "# Evaluate model\n",
    "def evaluate_model(model, X_test, y_test):\n",
    "    \"\"\"\n",
    "    Predict and evaluate the model on test data.\n",
    "    \"\"\"\n",
    "    # Make predictions\n",
    "    y_pred = model.predict(X_test)\n",
    "    \n",
    "    # Calculate evaluation metrics\n",
    "    mae = mean_absolute_error(y_test, y_pred)\n",
    "    r2 = r2_score(y_test, y_pred)\n",
    "    rmse = np.sqrt(mean_squared_error(y_test, y_pred))\n",
    "    \n",
    "    print(\"Mean Absolute Error:\", mae)\n",
    "    print(\"R² Score:\", r2)\n",
    "    print(\"RMSE:\", rmse)\n",
    "    \n",
    "    return mae, r2, rmse"
   ]
  },
  {
   "cell_type": "code",
   "execution_count": null,
   "id": "ac257e58-1a5f-4388-ad6d-85693d8781ef",
   "metadata": {},
   "outputs": [],
   "source": [
    "# Execute the pipeline\n",
    "if __name__ == \"__main__\":\n",
    "    file_path = '/Users/bananavodka/Projects/at3_mla/at3-model-experimentation/data/combined_itineraries.csv'\n",
    "    model_path = '/Users/bananavodka/Projects/at3_mla/at3-model-experimentation/models/rf_model.pkl'\n",
    "    encoders_path_prefix = '/Users/bananavodka/Projects/at3_mla/at3-model-experimentation/model'\n",
    "\n",
    "    main_pipeline(file_path, model_path, encoders_path_prefix)"
   ]
  }
 ],
 "metadata": {
  "kernelspec": {
   "display_name": "Python 3 (ipykernel)",
   "language": "python",
   "name": "python3"
  },
  "language_info": {
   "codemirror_mode": {
    "name": "ipython",
    "version": 3
   },
   "file_extension": ".py",
   "mimetype": "text/x-python",
   "name": "python",
   "nbconvert_exporter": "python",
   "pygments_lexer": "ipython3",
   "version": "3.11.4"
  }
 },
 "nbformat": 4,
 "nbformat_minor": 5
}
